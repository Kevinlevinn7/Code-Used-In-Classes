{
 "cells": [
  {
   "cell_type": "code",
   "execution_count": null,
   "id": "9b55eeb1",
   "metadata": {},
   "outputs": [],
   "source": [
    "import os \n",
    "os.chdir(\"..\")\n",
    "os.chdir(\"Linear Programing/Examples From Book Codes\") "
   ]
  },
  {
   "cell_type": "code",
   "execution_count": null,
   "id": "fd78f09a",
   "metadata": {},
   "outputs": [],
   "source": [
    "from Functions.solve_ampl_model_min import solve_ampl_model_min\n",
    "import numpy as np\n",
    "import matplotlib.pyplot as plt\n",
    "import pandas as pd\n",
    "from amplpy import AMPL\n",
    "print(os.getcwd())"
   ]
  },
  {
   "cell_type": "code",
   "execution_count": null,
   "id": "0cb52be2",
   "metadata": {},
   "outputs": [],
   "source": []
  }
 ],
 "metadata": {
  "kernelspec": {
   "display_name": "AEASP2025",
   "language": "python",
   "name": "python3"
  },
  "language_info": {
   "codemirror_mode": {
    "name": "ipython",
    "version": 3
   },
   "file_extension": ".py",
   "mimetype": "text/x-python",
   "name": "python",
   "nbconvert_exporter": "python",
   "pygments_lexer": "ipython3",
   "version": "3.13.4"
  }
 },
 "nbformat": 4,
 "nbformat_minor": 5
}
