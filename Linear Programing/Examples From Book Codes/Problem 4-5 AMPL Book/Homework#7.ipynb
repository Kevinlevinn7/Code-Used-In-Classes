{
 "cells": [
  {
   "cell_type": "code",
   "execution_count": 3,
   "id": "9b55eeb1",
   "metadata": {},
   "outputs": [],
   "source": [
    "import os \n",
    "os.chdir(\"..\")\n",
    "os.chdir(\"Linear Programing/Examples From Book Codes\") "
   ]
  },
  {
   "cell_type": "code",
   "execution_count": 4,
   "id": "fd78f09a",
   "metadata": {},
   "outputs": [
    {
     "name": "stdout",
     "output_type": "stream",
     "text": [
      "/Users/kevin/Documents/Code-Used-In-Classes/Linear Programing/Examples From Book Codes\n"
     ]
    }
   ],
   "source": [
    "from Functions.solve_ampl_max_steel import solve_ampl_model\n",
    "import numpy as np\n",
    "import matplotlib.pyplot as plt\n",
    "import pandas as pd\n",
    "from amplpy import AMPL\n",
    "print(os.getcwd())"
   ]
  },
  {
   "cell_type": "code",
   "execution_count": null,
   "id": "0cb52be2",
   "metadata": {},
   "outputs": [
    {
     "name": "stdout",
     "output_type": "stream",
     "text": [
      "Gurobi 12.0.3:Gurobi 12.0.3: optimal solution; objective 515033\n",
      "16 simplex iterations\n",
      "Total Profit: 515033.0\n",
      "\n",
      "Production plan (tons per product):\n",
      "('bands', 1): 5990 tons\n",
      "('bands', 2): 6000 tons\n",
      "('bands', 3): 1400 tons\n",
      "('bands', 4): 2000 tons\n",
      "('coils', 1): 1407 tons\n",
      "('coils', 2): 1400 tons\n",
      "('coils', 3): 3500 tons\n",
      "('coils', 4): 4200 tons\n",
      "\n",
      "Production plan as table:\n",
      "               Make.val\n",
      "index0 index1          \n",
      "bands  1           5990\n",
      "       2           6000\n",
      "       3           1400\n",
      "       4           2000\n",
      "coils  1           1407\n",
      "       2           1400\n",
      "       3           3500\n",
      "       4           4200\n"
     ]
    }
   ],
   "source": [
    "model = solve_ampl_model('steelT.mod', 'steelT.dat',  base_path=r'Problem 4-5 AMPL Book')\n"
   ]
  },
  {
   "cell_type": "code",
   "execution_count": 10,
   "id": "a7a8a938",
   "metadata": {},
   "outputs": [
    {
     "name": "stdout",
     "output_type": "stream",
     "text": [
      "Gurobi 12.0.3:Gurobi 12.0.3: optimal solution; objective 462944.2857\n",
      "16 simplex iterations\n",
      "Total Profit: 462944.2857142857\n",
      "\n",
      "Production plan (tons per product):\n",
      "('bands', 1): 2285.714285714286 tons\n",
      "('bands', 2): 4428.571428571428 tons\n",
      "('bands', 3): 1400.0 tons\n",
      "('bands', 4): 2000.0 tons\n",
      "('coils', 1): 4000.0 tons\n",
      "('coils', 2): 2500.0 tons\n",
      "('coils', 3): 3500.0 tons\n",
      "('coils', 4): 4200.0 tons\n",
      "\n",
      "Production plan as table:\n",
      "                  Make.val\n",
      "index0 index1             \n",
      "bands  1       2285.714286\n",
      "       2       4428.571429\n",
      "       3       1400.000000\n",
      "       4       2000.000000\n",
      "coils  1       4000.000000\n",
      "       2       2500.000000\n",
      "       3       3500.000000\n",
      "       4       4200.000000\n"
     ]
    }
   ],
   "source": [
    "model = solve_ampl_model('steelT.mod', 'steelT2.dat',  base_path=r'Problem 4-5 AMPL Book')"
   ]
  },
  {
   "cell_type": "code",
   "execution_count": 139,
   "id": "e896a7ce",
   "metadata": {},
   "outputs": [
    {
     "name": "stdout",
     "output_type": "stream",
     "text": [
      "Gurobi 12.0.3:Gurobi 12.0.3: optimal solution; objective 549970\n",
      "15 simplex iterations\n",
      "Total Profit: 549970.0\n",
      "\n",
      "Production plan (tons per product):\n",
      "('bands', 1): 0 tons\n",
      "('bands', 2): 6000 tons\n",
      "('bands', 3): 4000 tons\n",
      "('bands', 4): 6500 tons\n",
      "('coils', 1): 5600 tons\n",
      "('coils', 2): 1400 tons\n",
      "('coils', 3): 1680 tons\n",
      "('coils', 4): 1050 tons\n",
      "\n",
      "Production plan as table:\n",
      "               Make.val\n",
      "index0 index1          \n",
      "bands  1              0\n",
      "       2           6000\n",
      "       3           4000\n",
      "       4           6500\n",
      "coils  1           5600\n",
      "       2           1400\n",
      "       3           1680\n",
      "       4           1050\n"
     ]
    }
   ],
   "source": [
    "model = solve_ampl_model('steelT.mod', 'steelT3.dat',  base_path=r'Problem 4-5 AMPL Book')"
   ]
  },
  {
   "cell_type": "code",
   "execution_count": 143,
   "id": "3cd8a5c5",
   "metadata": {},
   "outputs": [
    {
     "name": "stdout",
     "output_type": "stream",
     "text": [
      "Gurobi 12.0.3:Gurobi 12.0.3: optimal solution; objective 503789.35\n",
      "43 simplex iterations\n",
      "Total Profit: 503789.35\n",
      "\n",
      "Production plan (tons per product):\n",
      "('bands', 1, 1): 5990.0 tons\n",
      "('bands', 1, 2): 2285.714285714286 tons\n",
      "('bands', 1, 3): 0.0 tons\n",
      "('bands', 2, 1): 6000.0 tons\n",
      "('bands', 2, 2): 4428.571428571428 tons\n",
      "('bands', 2, 3): 6000.0 tons\n",
      "('bands', 3, 1): 1400.0 tons\n",
      "('bands', 3, 2): 1400.0 tons\n",
      "('bands', 3, 3): 4000.0 tons\n",
      "('bands', 4, 1): 2000.0 tons\n",
      "('bands', 4, 2): 2000.0 tons\n",
      "('bands', 4, 3): 6500.0 tons\n",
      "('coils', 1, 1): 1407.0 tons\n",
      "('coils', 1, 2): 4000.0 tons\n",
      "('coils', 1, 3): 5600.0 tons\n",
      "('coils', 2, 1): 1400.0 tons\n",
      "('coils', 2, 2): 2500.0 tons\n",
      "('coils', 2, 3): 1400.0 tons\n",
      "('coils', 3, 1): 3500.0 tons\n",
      "('coils', 3, 2): 3500.0 tons\n",
      "('coils', 3, 3): 1680.0 tons\n",
      "('coils', 4, 1): 4200.0 tons\n",
      "('coils', 4, 2): 4200.0 tons\n",
      "('coils', 4, 3): 1050.0 tons\n",
      "\n",
      "Production plan as table:\n",
      "                         Make.val\n",
      "index0 index1 index2             \n",
      "bands  1      1       5990.000000\n",
      "              2       2285.714286\n",
      "              3          0.000000\n",
      "       2      1       6000.000000\n",
      "              2       4428.571429\n",
      "              3       6000.000000\n",
      "       3      1       1400.000000\n",
      "              2       1400.000000\n",
      "              3       4000.000000\n",
      "       4      1       2000.000000\n",
      "              2       2000.000000\n",
      "              3       6500.000000\n",
      "coils  1      1       1407.000000\n",
      "              2       4000.000000\n",
      "              3       5600.000000\n",
      "       2      1       1400.000000\n",
      "              2       2500.000000\n",
      "              3       1400.000000\n",
      "       3      1       3500.000000\n",
      "              2       3500.000000\n",
      "              3       1680.000000\n",
      "       4      1       4200.000000\n",
      "              2       4200.000000\n",
      "              3       1050.000000\n"
     ]
    }
   ],
   "source": [
    "model = solve_ampl_model('steelTstoch.mod', 'steelTstoch.dat',  base_path=r'Problem 4-5 AMPL Book')"
   ]
  },
  {
   "cell_type": "code",
   "execution_count": 144,
   "id": "6c7110e3",
   "metadata": {},
   "outputs": [
    {
     "name": "stdout",
     "output_type": "stream",
     "text": [
      "Gurobi 12.0.3:Gurobi 12.0.3: optimal solution; objective 500740.7143\n",
      "44 simplex iterations\n",
      "Total Profit: 500740.71428571426\n",
      "\n",
      "Production plan (tons per product):\n",
      "('bands', 1, 1): 5990.0 tons\n",
      "('bands', 1, 2): 5990.0 tons\n",
      "('bands', 1, 3): 5990.0 tons\n",
      "('bands', 2, 1): 4428.571428571428 tons\n",
      "('bands', 2, 2): 4428.571428571428 tons\n",
      "('bands', 2, 3): 6000.0 tons\n",
      "('bands', 3, 1): 1400.0 tons\n",
      "('bands', 3, 2): 1400.0 tons\n",
      "('bands', 3, 3): 4000.0 tons\n",
      "('bands', 4, 1): 2000.0 tons\n",
      "('bands', 4, 2): 2000.0 tons\n",
      "('bands', 4, 3): 6500.0 tons\n",
      "('coils', 1, 1): 1407.0 tons\n",
      "('coils', 1, 2): 1407.0 tons\n",
      "('coils', 1, 3): 1407.0 tons\n",
      "('coils', 2, 1): 2500.0 tons\n",
      "('coils', 2, 2): 2500.0 tons\n",
      "('coils', 2, 3): 1400.0 tons\n",
      "('coils', 3, 1): 3500.0 tons\n",
      "('coils', 3, 2): 3500.0 tons\n",
      "('coils', 3, 3): 1680.0 tons\n",
      "('coils', 4, 1): 4200.0 tons\n",
      "('coils', 4, 2): 4200.0 tons\n",
      "('coils', 4, 3): 1050.0 tons\n",
      "\n",
      "Production plan as table:\n",
      "                         Make.val\n",
      "index0 index1 index2             \n",
      "bands  1      1       5990.000000\n",
      "              2       5990.000000\n",
      "              3       5990.000000\n",
      "       2      1       4428.571429\n",
      "              2       4428.571429\n",
      "              3       6000.000000\n",
      "       3      1       1400.000000\n",
      "              2       1400.000000\n",
      "              3       4000.000000\n",
      "       4      1       2000.000000\n",
      "              2       2000.000000\n",
      "              3       6500.000000\n",
      "coils  1      1       1407.000000\n",
      "              2       1407.000000\n",
      "              3       1407.000000\n",
      "       2      1       2500.000000\n",
      "              2       2500.000000\n",
      "              3       1400.000000\n",
      "       3      1       3500.000000\n",
      "              2       3500.000000\n",
      "              3       1680.000000\n",
      "       4      1       4200.000000\n",
      "              2       4200.000000\n",
      "              3       1050.000000\n"
     ]
    }
   ],
   "source": [
    "model2 = solve_ampl_model('steelTstoch_c.mod', 'steelTstoch_c.dat',  base_path=r'Problem 4-5 AMPL Book')"
   ]
  },
  {
   "cell_type": "code",
   "execution_count": 145,
   "id": "5fcbdf9d",
   "metadata": {},
   "outputs": [
    {
     "name": "stdout",
     "output_type": "stream",
     "text": [
      "sum{p in PROD, t in 1 .. T} (revenue[p,t,s]*Sell[p,t,s] - prodcost[p]*Make[p,t\n",
      "  ,s] - invcost[p]*Inv[p,t,s]) [*]\n",
      " :=\n",
      "1  514090\n",
      "2  461833\n",
      "3  538793\n",
      ";\n",
      "\n"
     ]
    }
   ],
   "source": [
    "model2.eval(\"\"\"\n",
    "display {s in 1..S}\n",
    "    sum {p in PROD, t in 1..T} (revenue[p,t,s] * Sell[p,t,s] - \n",
    "        prodcost[p] * Make[p,t,s] - invcost[p] * Inv[p,t,s]);\n",
    "\"\"\")"
   ]
  },
  {
   "cell_type": "code",
   "execution_count": 146,
   "id": "567c35c5",
   "metadata": {},
   "outputs": [
    {
     "name": "stdout",
     "output_type": "stream",
     "text": [
      "Gurobi 12.0.3:Gurobi 12.0.3: optimal solution; objective 549956.4197\n",
      "41 simplex iterations\n",
      "Total Profit: 549956.4197142858\n",
      "\n",
      "Production plan (tons per product):\n",
      "('bands', 1, 1): 0.0 tons\n",
      "('bands', 1, 2): 0.0 tons\n",
      "('bands', 1, 3): 0.0 tons\n",
      "('bands', 2, 1): 6000.0 tons\n",
      "('bands', 2, 2): 6000.0 tons\n",
      "('bands', 2, 3): 6000.0 tons\n",
      "('bands', 3, 1): 2114.285714285715 tons\n",
      "('bands', 3, 2): 2114.285714285715 tons\n",
      "('bands', 3, 3): 4000.0 tons\n",
      "('bands', 4, 1): 2000.0 tons\n",
      "('bands', 4, 2): 2000.0 tons\n",
      "('bands', 4, 3): 6500.0 tons\n",
      "('coils', 1, 1): 5600.0 tons\n",
      "('coils', 1, 2): 5600.0 tons\n",
      "('coils', 1, 3): 5600.0 tons\n",
      "('coils', 2, 1): 1400.0 tons\n",
      "('coils', 2, 2): 1400.0 tons\n",
      "('coils', 2, 3): 1400.0 tons\n",
      "('coils', 3, 1): 3000.0 tons\n",
      "('coils', 3, 2): 3000.0 tons\n",
      "('coils', 3, 3): 1680.0 tons\n",
      "('coils', 4, 1): 4200.0 tons\n",
      "('coils', 4, 2): 4200.0 tons\n",
      "('coils', 4, 3): 1050.0 tons\n",
      "\n",
      "Production plan as table:\n",
      "                         Make.val\n",
      "index0 index1 index2             \n",
      "bands  1      1          0.000000\n",
      "              2          0.000000\n",
      "              3          0.000000\n",
      "       2      1       6000.000000\n",
      "              2       6000.000000\n",
      "              3       6000.000000\n",
      "       3      1       2114.285714\n",
      "              2       2114.285714\n",
      "              3       4000.000000\n",
      "       4      1       2000.000000\n",
      "              2       2000.000000\n",
      "              3       6500.000000\n",
      "coils  1      1       5600.000000\n",
      "              2       5600.000000\n",
      "              3       5600.000000\n",
      "       2      1       1400.000000\n",
      "              2       1400.000000\n",
      "              3       1400.000000\n",
      "       3      1       3000.000000\n",
      "              2       3000.000000\n",
      "              3       1680.000000\n",
      "       4      1       4200.000000\n",
      "              2       4200.000000\n",
      "              3       1050.000000\n"
     ]
    }
   ],
   "source": [
    "model3 = solve_ampl_model('steelTstoch_c.mod', 'steelTstoch_d.dat',  base_path=r'Problem 4-5 AMPL Book')"
   ]
  },
  {
   "cell_type": "code",
   "execution_count": 147,
   "id": "71b9e495",
   "metadata": {},
   "outputs": [
    {
     "name": "stdout",
     "output_type": "stream",
     "text": [
      "sum{p in PROD, t in 1 .. T} (revenue[p,t,s]*Sell[p,t,s] - prodcost[p]*Make[p,t\n",
      "  ,s] - invcost[p]*Inv[p,t,s]) [*]\n",
      " :=\n",
      "1  504493\n",
      "2  459644\n",
      "3  549970\n",
      ";\n",
      "\n"
     ]
    }
   ],
   "source": [
    "model3.eval(\"\"\"\n",
    "display {s in 1..S}\n",
    "    sum {p in PROD, t in 1..T} (revenue[p,t,s] * Sell[p,t,s] - \n",
    "        prodcost[p] * Make[p,t,s] - invcost[p] * Inv[p,t,s]);\n",
    "\"\"\")"
   ]
  }
 ],
 "metadata": {
  "kernelspec": {
   "display_name": "AEASP2025",
   "language": "python",
   "name": "python3"
  },
  "language_info": {
   "codemirror_mode": {
    "name": "ipython",
    "version": 3
   },
   "file_extension": ".py",
   "mimetype": "text/x-python",
   "name": "python",
   "nbconvert_exporter": "python",
   "pygments_lexer": "ipython3",
   "version": "3.13.4"
  }
 },
 "nbformat": 4,
 "nbformat_minor": 5
}
