{
 "cells": [
  {
   "cell_type": "code",
   "execution_count": 4,
   "id": "65a611e8",
   "metadata": {},
   "outputs": [],
   "source": [
    "from amplpy import AMPL\n",
    "import pandas as pd\n",
    "\n",
    "def solve_ampl_model(model_file, data_file, solver='gurobi', maximize = 'Profit'):\n",
    "    ampl = AMPL()\n",
    "    \n",
    "    # Load model and data\n",
    "    ampl.eval(f\"model '{model_file}';\")\n",
    "    ampl.eval(f\"data '{data_file}';\")\n",
    "    \n",
    "    # Set solver\n",
    "    ampl.eval(f\"option solver {solver};\")\n",
    "    \n",
    "    # Solve model\n",
    "    ampl.solve()\n",
    "    \n",
    "    # Print objective value\n",
    "    total_obj = ampl.get_objective(f\"Total_{maximize}\")\n",
    "    print(f\"Total {maximize}: {total_obj.value()}\")\n",
    "    \n",
    "    # Print variable values\n",
    "    make = ampl.get_variable('Make')\n",
    "    make_df = make.get_values().to_pandas()\n",
    "    \n",
    "    print(\"\\nProduction plan (tons per product):\")\n",
    "    for product, value in make_df['Make.val'].items():\n",
    "        print(f\"{product}: {value} tons\")\n",
    "    \n",
    "    print(\"\\nProduction plan as table:\")\n",
    "    print(make_df)\n",
    "    return ampl "
   ]
  },
  {
   "cell_type": "code",
   "execution_count": 5,
   "id": "4f2320f3",
   "metadata": {},
   "outputs": [
    {
     "name": "stdout",
     "output_type": "stream",
     "text": [
      "Gurobi 12.0.3:Gurobi 12.0.3: optimal solution; objective 190071.4286\n",
      "2 simplex iterations\n",
      "Total Profit: 190071.42857142858\n",
      "\n",
      "Production plan (tons per product):\n",
      "bands: 3357.142857142856 tons\n",
      "coils: 500.0 tons\n",
      "plate: 3142.857142857144 tons\n",
      "\n",
      "Production plan as table:\n",
      "          Make.val\n",
      "bands  3357.142857\n",
      "coils   500.000000\n",
      "plate  3142.857143\n"
     ]
    },
    {
     "data": {
      "text/plain": [
       "<amplpy.ampl.AMPL at 0x1ec1d427a00>"
      ]
     },
     "execution_count": 5,
     "metadata": {},
     "output_type": "execute_result"
    }
   ],
   "source": [
    "solve_ampl_model('steel4.mod', 'steel4.dat', maximize = 'Profit')"
   ]
  },
  {
   "cell_type": "code",
   "execution_count": 6,
   "id": "43969635",
   "metadata": {},
   "outputs": [
    {
     "name": "stdout",
     "output_type": "stream",
     "text": [
      "Gurobi 12.0.3:Gurobi 12.0.3: optimal solution; objective 190071.4286\n",
      "2 simplex iterations\n",
      "Total Profit: 190071.42857142858\n",
      "\n",
      "Production plan (tons per product):\n",
      "bands: 3357.142857142858 tons\n",
      "coils: 500.0 tons\n",
      "plate: 3142.857142857143 tons\n",
      "\n",
      "Production plan as table:\n",
      "          Make.val\n",
      "bands  3357.142857\n",
      "coils   500.000000\n",
      "plate  3142.857143\n",
      "\n",
      "Slack per stage:\n",
      "        Slack.val\n",
      "reheat          0\n",
      "roll            0\n"
     ]
    }
   ],
   "source": [
    "ampl = solve_ampl_model('steel4_a.mod', 'steel4_a.dat')\n",
    "slack = ampl.get_variable('Slack')\n",
    "slack_df = slack.get_values().to_pandas()\n",
    "print(\"\\nSlack per stage:\")\n",
    "print(slack_df)\n"
   ]
  },
  {
   "cell_type": "code",
   "execution_count": 106,
   "id": "abea18ea",
   "metadata": {},
   "outputs": [
    {
     "name": "stdout",
     "output_type": "stream",
     "text": [
      "Gurobi 12.0.3:Gurobi 12.0.3: optimal solution; objective 183791.6667\n",
      "3 simplex iterations\n",
      "Total Profit: 183791.66666666666\n",
      "\n",
      "Production plan (tons per product):\n",
      "bands: 1541.666666666666 tons\n",
      "coils: 1458.333333333334 tons\n",
      "plate: 3500.0 tons\n",
      "\n",
      "Production plan as table:\n",
      "          Make.val\n",
      "bands  1541.666667\n",
      "coils  1458.333333\n",
      "plate  3500.000000\n"
     ]
    }
   ],
   "source": [
    "ampl = solve_ampl_model('steel4_b.mod', 'steel4_b.dat')"
   ]
  },
  {
   "cell_type": "code",
   "execution_count": 20,
   "id": "00fc9b67",
   "metadata": {},
   "outputs": [
    {
     "name": "stdout",
     "output_type": "stream",
     "text": [
      "Gurobi 12.0.3:Gurobi 12.0.3: optimal solution; objective 7000\n",
      "0 simplex iterations\n",
      "Total Tons: 7000.0\n",
      "\n",
      "Production plan (tons per product):\n",
      "bands: 5750 tons\n",
      "coils: 500 tons\n",
      "plate: 750 tons\n",
      "\n",
      "Production plan as table:\n",
      "       Make.val\n",
      "bands      5750\n",
      "coils       500\n",
      "plate       750\n"
     ]
    }
   ],
   "source": [
    "ampl = solve_ampl_model('steel4_c.mod', 'steel4_c.dat', maximize = 'Tons')"
   ]
  },
  {
   "cell_type": "code",
   "execution_count": 25,
   "id": "26b046f0",
   "metadata": {},
   "outputs": [
    {
     "name": "stdout",
     "output_type": "stream",
     "text": [
      "Gurobi 12.0.3:Gurobi 12.0.3: optimal solution; objective 183211.9403\n",
      "5 simplex iterations\n",
      "Total Profit: 183211.94029850746\n",
      "\n",
      "Production plan (tons per product):\n",
      "bands: 3343.283582089552 tons\n",
      "coils: 2674.626865671642 tons\n",
      "plate: 668.6567164179105 tons\n",
      "\n",
      "Production plan as table:\n",
      "          Make.val\n",
      "bands  3343.283582\n",
      "coils  2674.626866\n",
      "plate   668.656716\n"
     ]
    }
   ],
   "source": [
    "ampl = solve_ampl_model('steel4_d.mod', 'steel4_d.dat')"
   ]
  },
  {
   "cell_type": "code",
   "execution_count": 121,
   "id": "3bca9f9d",
   "metadata": {},
   "outputs": [
    {
     "name": "stdout",
     "output_type": "stream",
     "text": [
      "Gurobi 12.0.3:Gurobi 12.0.3: optimal solution; objective -0\n",
      "3 simplex iterations\n",
      "Total Profit: 0.0\n",
      "\n",
      "Production plan (tons per product):\n",
      "bands: 0 tons\n",
      "coils: 0 tons\n",
      "plate: 0 tons\n",
      "\n",
      "Production plan as table:\n",
      "       Make.val\n",
      "bands         0\n",
      "coils         0\n",
      "plate         0\n"
     ]
    }
   ],
   "source": [
    "ampl = solve_ampl_model('steel4_d.mod', 'steel4_d_2.dat')"
   ]
  },
  {
   "cell_type": "code",
   "execution_count": 124,
   "id": "1bbd0db3",
   "metadata": {},
   "outputs": [
    {
     "name": "stdout",
     "output_type": "stream",
     "text": [
      "Gurobi 12.0.3:Gurobi 12.0.3: optimal solution; objective 189916.6667\n",
      "3 simplex iterations\n",
      "Total Profit: 189916.6666666667\n",
      "\n",
      "Production plan (tons per product):\n",
      "bands: 3416.666666666667 tons\n",
      "coils: 583.3333333333335 tons\n",
      "plate: 3000.0 tons\n",
      "\n",
      "Production plan as table:\n",
      "          Make.val\n",
      "bands  3416.666667\n",
      "coils   583.333333\n",
      "plate  3000.000000\n"
     ]
    }
   ],
   "source": [
    "ampl = solve_ampl_model('steel4_e.mod', 'steel4_e.dat')"
   ]
  }
 ],
 "metadata": {
  "kernelspec": {
   "display_name": "Python 3",
   "language": "python",
   "name": "python3"
  },
  "language_info": {
   "codemirror_mode": {
    "name": "ipython",
    "version": 3
   },
   "file_extension": ".py",
   "mimetype": "text/x-python",
   "name": "python",
   "nbconvert_exporter": "python",
   "pygments_lexer": "ipython3",
   "version": "3.13.7"
  }
 },
 "nbformat": 4,
 "nbformat_minor": 5
}
