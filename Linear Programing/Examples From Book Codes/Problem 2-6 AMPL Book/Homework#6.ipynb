{
 "cells": [
  {
   "cell_type": "code",
   "execution_count": 3,
   "id": "0116a89a",
   "metadata": {},
   "outputs": [],
   "source": [
    "import os \n",
    "os.chdir(\"..\")\n",
    "os.chdir(\"Linear Programing/Examples From Book Codes\") \n"
   ]
  },
  {
   "cell_type": "code",
   "execution_count": 4,
   "id": "00fd30ad",
   "metadata": {},
   "outputs": [
    {
     "name": "stdout",
     "output_type": "stream",
     "text": [
      "/Users/kevin/Documents/Code-Used-In-Classes/Linear Programing/Examples From Book Codes\n"
     ]
    }
   ],
   "source": [
    "from Functions.solve_ampl_model_min import solve_ampl_model_min\n",
    "import numpy as np\n",
    "import matplotlib.pyplot as plt\n",
    "import pandas as pd\n",
    "from amplpy import AMPL\n",
    "print(os.getcwd())\n"
   ]
  },
  {
   "cell_type": "code",
   "execution_count": 5,
   "id": "e7cfcb94",
   "metadata": {},
   "outputs": [
    {
     "name": "stdout",
     "output_type": "stream",
     "text": [
      "Gurobi 12.0.3:Gurobi 12.0.3: optimal solution; objective 49.5\n",
      "3 simplex iterations\n",
      "Total Number: 49.5\n",
      "\n",
      "Production plan:\n",
      "   Make.val\n",
      "1      14.0\n",
      "2      17.5\n",
      "3      10.0\n",
      "4       0.0\n",
      "5       8.0\n",
      "6       0.0\n"
     ]
    }
   ],
   "source": [
    "model = solve_ampl_model_min('paper_mill.mod', 'paper_mill.dat', base_path=r'Problem 2-6 AMPL Book', minimize='Number')\n"
   ]
  },
  {
   "cell_type": "code",
   "execution_count": 6,
   "id": "2e023ae2",
   "metadata": {},
   "outputs": [
    {
     "name": "stdout",
     "output_type": "stream",
     "text": [
      "Gurobi 12.0.3:Gurobi 12.0.3: optimal solution; objective 44.55\n",
      "0 simplex iterations\n",
      "Total Number: 44.550000000000004\n",
      "\n",
      "Production plan:\n",
      "   Make.val\n",
      "1      7.60\n",
      "2     15.75\n",
      "3     14.00\n",
      "4      0.00\n",
      "5      7.20\n",
      "6      0.00\n"
     ]
    }
   ],
   "source": [
    "model = solve_ampl_model_min('paper_mill2.mod', 'paper_mill2.dat', base_path=r'Problem 2-6 AMPL Book', minimize='Number')\n"
   ]
  },
  {
   "cell_type": "code",
   "execution_count": 7,
   "id": "94887db3",
   "metadata": {},
   "outputs": [
    {
     "name": "stdout",
     "output_type": "stream",
     "text": [
      "Gurobi 12.0.3:Gurobi 12.0.3: optimal solution; objective 49.5\n",
      "3 simplex iterations\n",
      "Total Number: 49.5\n",
      "\n",
      "Production plan:\n",
      "   Make.val\n",
      "1      14.0\n",
      "2      17.5\n",
      "3      10.0\n",
      "4       0.0\n",
      "5       8.0\n",
      "6       0.0\n",
      "Gurobi 12.0.3:Gurobi 12.0.3: optimal solution; objective 46.25\n",
      "4 simplex iterations\n",
      "Total Number: 46.25\n",
      "\n",
      "Production plan:\n",
      "   Make.val\n",
      "1      7.50\n",
      "2     17.50\n",
      "3     10.00\n",
      "4      0.00\n",
      "5      8.00\n",
      "6      0.00\n",
      "7      3.25\n",
      "Original model objective: 49.5\n",
      "New model objective: 46.25\n",
      "Difference: -3.25\n"
     ]
    }
   ],
   "source": [
    "# Get numeric objective values\n",
    "og_model = solve_ampl_model_min('paper_mill.mod', 'paper_mill.dat', base_path=r'Problem 2-6 AMPL Book', minimize='Number')\n",
    "model = solve_ampl_model_min('paper_mill3.mod', 'paper_mill3.dat', base_path=r'Problem 2-6 AMPL Book', minimize='Number')\n",
    "\n",
    "total_obj_og = og_model.get_objective(\"Total_Number\")\n",
    "total_obj_model = model.get_objective(\"Total_Number\")\n",
    "\n",
    "total_obj_og_val = total_obj_og.value()\n",
    "total_obj_model_val = total_obj_model.value()\n",
    "\n",
    "# Compare or subtract\n",
    "diff_obj = total_obj_model_val - total_obj_og_val\n",
    "\n",
    "print(f\"Original model objective: {total_obj_og_val}\")\n",
    "print(f\"New model objective: {total_obj_model_val}\")\n",
    "print(f\"Difference: {diff_obj}\")"
   ]
  },
  {
   "cell_type": "code",
   "execution_count": 8,
   "id": "55298afd",
   "metadata": {},
   "outputs": [
    {
     "name": "stdout",
     "output_type": "stream",
     "text": [
      "Gurobi 12.0.3:Gurobi 12.0.3: optimal solution; objective 49.5\n",
      "3 simplex iterations\n",
      "Gurobi 12.0.3:Gurobi 12.0.3: optimal solution; objective 50\n",
      "5 simplex iterations\n",
      "1 branching node\n",
      "Original model objective: 49.5\n",
      "New model objective: 50.0\n",
      "Difference: 0.5\n"
     ]
    }
   ],
   "source": [
    "#Lets run this for part a\n",
    "og_model = solve_ampl_model_min('paper_mill.mod', 'paper_mill.dat', base_path=r'Problem 2-6 AMPL Book', minimize='Number', show_plan=False)\n",
    "model = solve_ampl_model_min('paper_mill_int.mod', 'paper_mill.dat', base_path=r'Problem 2-6 AMPL Book', minimize='Number', show_plan=False)\n",
    "\n",
    "total_obj_og = og_model.get_objective(\"Total_Number\")\n",
    "total_obj_model = model.get_objective(\"Total_Number\")\n",
    "\n",
    "total_obj_og_val = total_obj_og.value()\n",
    "total_obj_model_val = total_obj_model.value()\n",
    "\n",
    "# Compare or subtract\n",
    "diff_obj = total_obj_model_val - total_obj_og_val\n",
    "\n",
    "print(f\"Original model objective: {total_obj_og_val}\")\n",
    "print(f\"New model objective: {total_obj_model_val}\")\n",
    "print(f\"Difference: {diff_obj}\")"
   ]
  },
  {
   "cell_type": "code",
   "execution_count": null,
   "id": "4116cecb",
   "metadata": {},
   "outputs": [
    {
     "name": "stdout",
     "output_type": "stream",
     "text": [
      "Gurobi 12.0.3:Gurobi 12.0.3: optimal solution; objective 44.55\n",
      "0 simplex iterations\n",
      "Gurobi 12.0.3:Gurobi 12.0.3: optimal solution; objective 46\n",
      "0 simplex iterations\n",
      "Original model objective: 44.550000000000004\n",
      "New model objective: 46.0\n",
      "Difference: 1.4499999999999957\n"
     ]
    }
   ],
   "source": [
    "#Lets run this for part b\n",
    "og_model = solve_ampl_model_min('paper_mill2.mod', 'paper_mill2.dat', base_path=r'Problem 2-6 AMPL Book', minimize='Number', show_plan=False)\n",
    "model = solve_ampl_model_min('paper_mill2_int.mod', 'paper_mill2.dat', base_path=r'Problem 2-6 AMPL Book', minimize='Number', show_plan=False)\n",
    "\n",
    "total_obj_og = og_model.get_objective(\"Total_Number\")\n",
    "total_obj_model = model.get_objective(\"Total_Number\")\n",
    "\n",
    "total_obj_og_val = total_obj_og.value()\n",
    "total_obj_model_val = total_obj_model.value()\n",
    "\n",
    "# Compare or subtract\n",
    "diff_obj = total_obj_model_val - total_obj_og_val\n",
    "\n",
    "print(f\"Original model objective: {total_obj_og_val}\")\n",
    "print(f\"New model objective: {total_obj_model_val}\")\n",
    "\n",
    "print(f\"Difference: {diff_obj}\") \n"
   ]
  },
  {
   "cell_type": "code",
   "execution_count": 9,
   "id": "5a418df0",
   "metadata": {},
   "outputs": [
    {
     "name": "stdout",
     "output_type": "stream",
     "text": [
      "Gurobi 12.0.3:Gurobi 12.0.3: optimal solution; objective 46.25\n",
      "4 simplex iterations\n",
      "Gurobi 12.0.3:Gurobi 12.0.3: optimal solution; objective 47\n",
      "5 simplex iterations\n",
      "1 branching node\n",
      "Original model objective: 46.25\n",
      "New model objective: 47.0\n",
      "Difference: 0.75\n"
     ]
    }
   ],
   "source": [
    "#Lets run this for part c\n",
    "og_model = solve_ampl_model_min('paper_mill3.mod', 'paper_mill3.dat', base_path=r'Problem 2-6 AMPL Book', minimize='Number', show_plan=False)\n",
    "model = solve_ampl_model_min('paper_mill3_int.mod', 'paper_mill3.dat', base_path=r'Problem 2-6 AMPL Book', minimize='Number', show_plan=False)\n",
    "\n",
    "total_obj_og = og_model.get_objective(\"Total_Number\")\n",
    "total_obj_model = model.get_objective(\"Total_Number\")\n",
    "\n",
    "total_obj_og_val = total_obj_og.value()\n",
    "total_obj_model_val = total_obj_model.value()\n",
    "\n",
    "# Compare or subtract\n",
    "diff_obj = total_obj_model_val - total_obj_og_val\n",
    "\n",
    "print(f\"Original model objective: {total_obj_og_val}\")\n",
    "print(f\"New model objective: {total_obj_model_val}\")\n",
    "print(f\"Difference: {diff_obj}\")"
   ]
  }
 ],
 "metadata": {
  "kernelspec": {
   "display_name": "AEASP2025",
   "language": "python",
   "name": "python3"
  },
  "language_info": {
   "codemirror_mode": {
    "name": "ipython",
    "version": 3
   },
   "file_extension": ".py",
   "mimetype": "text/x-python",
   "name": "python",
   "nbconvert_exporter": "python",
   "pygments_lexer": "ipython3",
   "version": "3.13.4"
  }
 },
 "nbformat": 4,
 "nbformat_minor": 5
}
