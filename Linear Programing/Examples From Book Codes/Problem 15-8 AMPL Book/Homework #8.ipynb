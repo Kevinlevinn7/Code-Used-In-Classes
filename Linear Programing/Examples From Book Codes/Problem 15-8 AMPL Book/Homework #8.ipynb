{
 "cells": [
  {
   "cell_type": "code",
   "execution_count": 9,
   "id": "b42098d1",
   "metadata": {},
   "outputs": [],
   "source": [
    "import os \n",
    "os.chdir(\"..\")\n",
    "os.chdir(\"Linear Programing/Examples From Book Codes\") "
   ]
  },
  {
   "cell_type": "code",
   "execution_count": 10,
   "id": "6f5e0997",
   "metadata": {},
   "outputs": [
    {
     "name": "stdout",
     "output_type": "stream",
     "text": [
      "g:\\Code-Used-In-Classes\\Linear Programing\\Examples From Book Codes\n"
     ]
    }
   ],
   "source": [
    "from Functions.solve_ampl_model_min import solve_ampl_model_min\n",
    "import numpy as np\n",
    "import matplotlib.pyplot as plt\n",
    "import pandas as pd\n",
    "from amplpy import AMPL\n",
    "print(os.getcwd())\n"
   ]
  },
  {
   "cell_type": "code",
   "execution_count": 43,
   "id": "a689c03f",
   "metadata": {},
   "outputs": [],
   "source": [
    "from amplpy import AMPL\n",
    "import pandas as pd\n",
    "import os\n",
    "\n",
    "def solve_ampl_model_min(model_file, data_file, solver='gurobi', minimize='Cost', base_path=None, show_plan=True):\n",
    "    ampl = AMPL()  \n",
    "\n",
    "    # --- handle file paths ---\n",
    "    if base_path is not None:\n",
    "        model_file = os.path.join(base_path, model_file)\n",
    "        data_file = os.path.join(base_path, data_file)\n",
    "\n",
    "    # --- load and solve model ---\n",
    "    ampl.eval(f\"model '{model_file}';\")\n",
    "    ampl.eval(f\"data '{data_file}';\")\n",
    "    ampl.eval(f\"option solver {solver};\")\n",
    "    ampl.solve()\n",
    "\n",
    "    # --- get objective value ---\n",
    "    total_obj = ampl.get_objective(f\"Total_{minimize}\")\n",
    "\n",
    "    # --- variable names from your napkin model ---\n",
    "    var_names = [\n",
    "        \"Bought\",\n",
    "        \"Carried\",\n",
    "        \"Demand\",\n",
    "        \"Sent_to_clean_slow\",\n",
    "        \"Sent_to_clean_fast\",\n",
    "        \"sent_to_trash\",\n",
    "    ]\n",
    "\n",
    "    # --- extract all variables ---\n",
    "    variable_dfs = {}\n",
    "    for name in var_names:\n",
    "        try:\n",
    "            var = ampl.get_variable(name)\n",
    "            df = var.get_values().to_pandas()\n",
    "            variable_dfs[name] = df\n",
    "        except Exception as e:\n",
    "            print(f\"Warning: could not get variable '{name}': {e}\")\n",
    "\n",
    "    # --- optionally print results ---\n",
    "    if show_plan:\n",
    "        print(f\"Total {minimize}: {total_obj.value()}\\n\")\n",
    "        for name, df in variable_dfs.items():\n",
    "            print(f\"=== {name} ===\")\n",
    "            print(df)\n",
    "            print()\n",
    "\n",
    "    # --- return ampl session + results for further access ---\n",
    "    return ampl, variable_dfs\n"
   ]
  },
  {
   "cell_type": "code",
   "execution_count": 45,
   "id": "03b42b28",
   "metadata": {},
   "outputs": [
    {
     "name": "stderr",
     "output_type": "stream",
     "text": [
      "[WARNING] \n",
      "\tpresolve, variable Demand[7]:\n",
      "\t\timpossible deduced bounds: lower = 95, upper = 0\n",
      "\tpresolve, variable Demand[6]:\n",
      "\t\timpossible deduced bounds: lower = 130, upper = 0\n",
      "\tpresolve, variable Demand[2]:\n",
      "\t\timpossible deduced bounds: lower = 120, upper = 0\n",
      "\tpresolve, variable Demand[1]:\n",
      "\t\timpossible deduced bounds: lower = 80, upper = 0\n"
     ]
    },
    {
     "name": "stdout",
     "output_type": "stream",
     "text": [
      "Warning: could not get variable 'Bought': 'A variable called Bought cannot be found.'\n",
      "Warning: could not get variable 'Carried': 'A variable called Carried cannot be found.'\n",
      "Warning: could not get variable 'Demand': 'A variable called Demand cannot be found.'\n",
      "Warning: could not get variable 'Sent_to_clean_slow': 'A variable called Sent_to_clean_slow cannot be found.'\n",
      "Warning: could not get variable 'Sent_to_clean_fast': 'A variable called Sent_to_clean_fast cannot be found.'\n",
      "Warning: could not get variable 'sent_to_trash': 'A variable called sent_to_trash cannot be found.'\n",
      "Total Cost: 0.0\n",
      "\n"
     ]
    }
   ],
   "source": [
    "model = solve_ampl_model_min('Napkin_node_arc.mod', 'Napkin.dat', base_path=r'Problem 15-8 AMPL Book') \n",
    "\n"
   ]
  }
 ],
 "metadata": {
  "kernelspec": {
   "display_name": "Python 3",
   "language": "python",
   "name": "python3"
  },
  "language_info": {
   "codemirror_mode": {
    "name": "ipython",
    "version": 3
   },
   "file_extension": ".py",
   "mimetype": "text/x-python",
   "name": "python",
   "nbconvert_exporter": "python",
   "pygments_lexer": "ipython3",
   "version": "3.13.7"
  }
 },
 "nbformat": 4,
 "nbformat_minor": 5
}
