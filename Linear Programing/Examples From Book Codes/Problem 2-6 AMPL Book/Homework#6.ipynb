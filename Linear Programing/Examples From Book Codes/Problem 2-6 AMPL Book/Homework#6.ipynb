{
 "cells": [
  {
   "cell_type": "code",
   "execution_count": 4,
   "id": "0116a89a",
   "metadata": {},
   "outputs": [],
   "source": [
    "import os \n",
    "os.chdir(\"..\")\n",
    "os.chdir(r\"Code-Used-In-Classes\\Linear Programing\\Examples From Book Codes\") \n"
   ]
  },
  {
   "cell_type": "code",
   "execution_count": 33,
   "id": "00fd30ad",
   "metadata": {},
   "outputs": [
    {
     "name": "stdout",
     "output_type": "stream",
     "text": [
      "g:\\Code-Used-In-Classes\\Linear Programing\\Examples From Book Codes\n"
     ]
    }
   ],
   "source": [
    "from Functions.solve_ampl_model_min import solve_ampl_model_min\n",
    "import numpy as np\n",
    "import matplotlib.pyplot as plt\n",
    "import pandas as pd\n",
    "from amplpy import AMPL\n",
    "print(os.getcwd())\n"
   ]
  },
  {
   "cell_type": "code",
   "execution_count": 51,
   "id": "e7cfcb94",
   "metadata": {},
   "outputs": [
    {
     "name": "stdout",
     "output_type": "stream",
     "text": [
      "Gurobi 12.0.3:Gurobi 12.0.3: optimal solution; objective 49.5\n",
      "3 simplex iterations\n",
      "Total Number: 49.5\n",
      "\n",
      "Production plan:\n",
      "   Make.val\n",
      "1      14.0\n",
      "2      17.5\n",
      "3      10.0\n",
      "4       0.0\n",
      "5       8.0\n",
      "6       0.0\n"
     ]
    }
   ],
   "source": [
    "model = solve_ampl_model_min('paper_mill.mod', 'paper_mill.dat', base_path=r'Problem 2-6 AMPL Book', minimize='Number')\n"
   ]
  },
  {
   "cell_type": "code",
   "execution_count": 52,
   "id": "2e023ae2",
   "metadata": {},
   "outputs": [
    {
     "name": "stdout",
     "output_type": "stream",
     "text": [
      "Gurobi 12.0.3:Gurobi 12.0.3: optimal solution; objective 44.55\n",
      "0 simplex iterations\n",
      "Total Number: 44.550000000000004\n",
      "\n",
      "Production plan:\n",
      "   Make.val\n",
      "1      7.60\n",
      "2     15.75\n",
      "3     14.00\n",
      "4      0.00\n",
      "5      7.20\n",
      "6      0.00\n"
     ]
    }
   ],
   "source": [
    "model = solve_ampl_model_min('paper_mill2.mod', 'paper_mill2.dat', base_path=r'Problem 2-6 AMPL Book', minimize='Number')\n"
   ]
  }
 ],
 "metadata": {
  "kernelspec": {
   "display_name": "Python 3",
   "language": "python",
   "name": "python3"
  },
  "language_info": {
   "codemirror_mode": {
    "name": "ipython",
    "version": 3
   },
   "file_extension": ".py",
   "mimetype": "text/x-python",
   "name": "python",
   "nbconvert_exporter": "python",
   "pygments_lexer": "ipython3",
   "version": "3.13.7"
  }
 },
 "nbformat": 4,
 "nbformat_minor": 5
}
